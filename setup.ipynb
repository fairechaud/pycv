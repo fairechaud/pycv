{
 "cells": [
  {
   "attachments": {},
   "cell_type": "markdown",
   "metadata": {},
   "source": [
    "### **OpenCV and tools**\n",
    "\n",
    "Before we can start working on object detection and motion tracking, we have to setup our system with the necessary tools and libraries.\n",
    "\n",
    "Install the following packages.\n",
    "\n",
    "**Image manipulation**: \n",
    "- imutils contains functions to easily manipulate images (resizing aspect ratio, cropping, etc). See https://github.com/PyImageSearch/imutils"
   ]
  },
  {
   "cell_type": "code",
   "execution_count": null,
   "metadata": {},
   "outputs": [],
   "source": [
    "pip install imutils"
   ]
  },
  {
   "attachments": {},
   "cell_type": "markdown",
   "metadata": {},
   "source": [
    "**Image processing**:\n",
    "- opencv-contrib-python (also, opencv-python) is a custom version of opencv. See https://pyimagesearch.com/opencv-tutorials-resources-guides/\n",
    "\n",
    "*might also involve numpy and other math libraries*"
   ]
  },
  {
   "cell_type": "code",
   "execution_count": null,
   "metadata": {},
   "outputs": [],
   "source": [
    "pip install opencv-contrib-python"
   ]
  },
  {
   "attachments": {},
   "cell_type": "markdown",
   "metadata": {},
   "source": [
    "**Command line arguments**:\n",
    "- argparse allows us to give our program different input *without changing the code.*\n",
    "\n",
    "Command line arguments are flags given to a program/script at runtime. They contain additional information for our program so that it can execute. Just like we can pass values to a function as parameters, we can input command line arguments to the code. https://pyimagesearch.com/2018/03/12/python-argparse-command-line-arguments/"
   ]
  },
  {
   "cell_type": "code",
   "execution_count": null,
   "metadata": {},
   "outputs": [],
   "source": [
    "pip install argparse"
   ]
  },
  {
   "attachments": {},
   "cell_type": "markdown",
   "metadata": {},
   "source": [
    "Most examples will make us of this packages, it is adviced to look into the documentation provided for the packages and making sure our system is fully configured for image processing operations."
   ]
  }
 ],
 "metadata": {
  "kernelspec": {
   "display_name": "Python 3 (ipykernel)",
   "language": "python",
   "name": "python3"
  },
  "language_info": {
   "codemirror_mode": {
    "name": "ipython",
    "version": 3
   },
   "file_extension": ".py",
   "mimetype": "text/x-python",
   "name": "python",
   "nbconvert_exporter": "python",
   "pygments_lexer": "ipython3",
   "version": "3.10.7"
  },
  "vscode": {
   "interpreter": {
    "hash": "c0596c81d6325fd795ff544f846f29d10b3e1dd0dc705e114bff3e8628efdd98"
   }
  }
 },
 "nbformat": 4,
 "nbformat_minor": 2
}
