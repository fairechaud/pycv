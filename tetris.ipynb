{
 "cells": [
  {
   "attachments": {},
   "cell_type": "markdown",
   "metadata": {},
   "source": [
    "Python + OpenCV script to count the number of Tetris blocks in the following image:"
   ]
  },
  {
   "attachments": {},
   "cell_type": "markdown",
   "metadata": {},
   "source": [
    "Along the way we’ll be:\n",
    "\n",
    "- Learning how to convert images to grayscale with OpenCV\n",
    "- Performing edge detection\n",
    "- Thresholding a grayscale image\n",
    "- Finding, counting, and drawing contours\n",
    "- Conducting erosion and dilation\n",
    "- Masking an image"
   ]
  },
  {
   "cell_type": "markdown",
   "metadata": {},
   "source": []
  }
 ],
 "metadata": {
  "language_info": {
   "name": "python"
  },
  "orig_nbformat": 4
 },
 "nbformat": 4,
 "nbformat_minor": 2
}
