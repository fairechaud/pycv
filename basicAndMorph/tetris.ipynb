{
 "cells": [
  {
   "attachments": {},
   "cell_type": "markdown",
   "metadata": {},
   "source": [
    "Python + OpenCV script to count the number of Tetris blocks in the following image:"
   ]
  },
  {
   "attachments": {},
   "cell_type": "markdown",
   "metadata": {},
   "source": [
    "Along the way we’ll be:\n",
    "\n",
    "- Learning how to convert images to grayscale with OpenCV\n",
    "- Performing edge detection\n",
    "- Thresholding a grayscale image\n",
    "- Finding, counting, and drawing contours\n",
    "- Conducting erosion and dilation\n",
    "- Masking an image"
   ]
  },
  {
   "cell_type": "markdown",
   "metadata": {},
   "source": []
  }
 ],
 "metadata": {
  "kernelspec": {
   "display_name": "Python 3",
   "language": "python",
   "name": "python3"
  },
  "language_info": {
   "name": "python",
   "version": "3.10.7"
  },
  "orig_nbformat": 4,
  "vscode": {
   "interpreter": {
    "hash": "c0596c81d6325fd795ff544f846f29d10b3e1dd0dc705e114bff3e8628efdd98"
   }
  }
 },
 "nbformat": 4,
 "nbformat_minor": 2
}
